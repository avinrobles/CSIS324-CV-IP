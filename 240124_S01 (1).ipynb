{
  "nbformat": 4,
  "nbformat_minor": 0,
  "metadata": {
    "colab": {
      "provenance": []
    },
    "kernelspec": {
      "name": "python3",
      "display_name": "Python 3"
    },
    "language_info": {
      "name": "python"
    }
  },
  "cells": [
    {
      "cell_type": "markdown",
      "source": [
        "#Run all"
      ],
      "metadata": {
        "id": "W48Yh8v2m52P"
      }
    },
    {
      "cell_type": "markdown",
      "source": [
        "##Deep Computer Vision\n",
        "\n",
        "Perform image classification and object detection/recognition using deep computer vision with something called convulutional neural network.\n",
        "\n",
        "The goal of our convulutional neural networks will be classify and detect images or specific objects from within the image.\n",
        "  - image data as our features\n",
        "  - label for those images as our label or output\n",
        "      -how neural network works\n",
        "        -image data\n",
        "        -convulutional layer\n",
        "        -pooling layer\n",
        "        -CNN Architecture"
      ],
      "metadata": {
        "id": "isHOksEUmT4p"
      }
    },
    {
      "cell_type": "markdown",
      "source": [
        "##Image Data\n",
        "  - data has 1 or 2 dimensions\n",
        "    - image data has 3 dimentions\n",
        "      -- image height\n",
        "      -- image width\n",
        "      -- color channels\n",
        "  The only item in the list you may not understand is the color channels.\n",
        "  The number of color channels represents the depth of an image and coorelates to colors it used.\n",
        "    example:\n",
        "      for an image of color depth 1 = graysclae image (1,1,1)"
      ],
      "metadata": {
        "id": "DasPuX2AnY9X"
      }
    },
    {
      "cell_type": "markdown",
      "source": [
        "## Coding"
      ],
      "metadata": {
        "id": "TteLU2lIoeES"
      }
    },
    {
      "cell_type": "code",
      "source": [
        "import pandas as pd\n",
        "from sklearn.model_selection import train_test_split\n",
        "import numpy as np\n",
        "import math\n",
        "import matplotlib.pyplot as plt\n",
        "from sklearn.metrics import accuracy_score\n",
        "import random\n",
        "from sklearn.manifold import TSNE\n",
        "import seaborn as sns\n",
        "import plotly.express as px\n",
        "import torch.optim as optim\n",
        "from tqdm import tqdm\n",
        "import torch\n",
        "import torch.nn as nn\n",
        "import torch.nn.functional as F\n",
        "from torch.utils.data import Dataset, DataLoader\n",
        "from sklearn.manifold import TSNE\n",
        "import seaborn as sns\n",
        "import plotly.express as px\n",
        "import cv2 #pip install opencv-python\n",
        "import urllib"
      ],
      "metadata": {
        "id": "emTkjxYdog7L"
      },
      "execution_count": null,
      "outputs": []
    },
    {
      "cell_type": "markdown",
      "source": [
        "##Variational Autoencoder implementation (VAE)\n",
        "- type of artificial intelligence model used for learning and generating new data\n",
        "\n",
        "-- autoencoder\n",
        "  - type of neural network designed for learning efficient representation of data\n",
        "  - it consists of an encoder, which compress the input data into a smaller simplified representation, and a decoder, which reconstructs the original data from this representation\n",
        "\n",
        "-- variational\n",
        "  - it refers to the use of probability distribution to generate data\n",
        "\n",
        "-- implementation involves setting up a neural network architecture with two main components: an encoder and a decoder\n",
        "  - encoder takes in the input data and maps it to a probability distribution in a reduced-dimensional space\n",
        "  - decoder then samples from this distribution and reconstruct the original input\n",
        "\n"
      ],
      "metadata": {
        "id": "pcRMa9ylr61G"
      }
    },
    {
      "cell_type": "markdown",
      "source": [
        "##Stepwise (Step by Step)"
      ],
      "metadata": {
        "id": "1rDAVKG45LrV"
      }
    },
    {
      "cell_type": "code",
      "source": [
        "#utf-8 unicode transformation format - 8 bits\n",
        "class VariationalAutoencoder(nn.Module):\n",
        "  def __init__(self, num_features=8, num_dim=784):\n",
        "    super(VariationalAutoencoder, self).__init__()\n",
        "\n",
        "    self.num_features = num_features\n",
        "    self.num_dim = num_dim #Dimensions/number of input\n",
        "\n",
        "    self.encoder_layer_1 = nn.Linear(in_features = self.num_dim, out_features=512)\n",
        "    self.encoder_layer_2 = nn.Linear(in_features = 512, out_features=(self.num_features * 2))\n",
        "\n",
        "    self.decoder_layer_1 = nn.Linear(in_features = self.num_features, out_features=512)\n",
        "    self.decoder_layer_2 = nn.Linear(in_features = 512, out_features=self.num_dim)\n",
        "\n",
        "  def reparameterize(self, mu, log_var):\n",
        "    '''\n",
        "        !param mu: mean from endocer's latent space\n",
        "        !param log_var: log variance from encoders's latent space\n",
        "    '''\n",
        "    std = torch.exp(0.5 * log_var)#standard deviation\n",
        "    eps = torch.randn_like(std)#randn_like as same we need the same size\n",
        "    sample = mu +(eps*std)\n",
        "\n",
        "    return sample\n",
        "\n",
        "  def sample(self, x):\n",
        "    encoded_x, mu, log_var = self.encode(x)\n",
        "\n",
        "    generated_sample = self.decode(encoded_x, mu, log_var)\n",
        "\n",
        "    return generated_sample\n",
        "\n",
        "  def encode(self, x):\n",
        "    #encoding\n",
        "    '''\n",
        "    relu - Rectified linear unit (activation function to the output of the\n",
        "    first linear layer)\n",
        "\n",
        "    relu is a simple mathematical function that introduces non-linearity to the network\n",
        "    '''\n",
        "    x = F.relu(self.encoder_layer_1(x))\n",
        "    x = self.encoder_layer_2(x).view(-1, 2, self.num_features)\n",
        "    #-1 in the view() -1 serve as a placeholder on the size of the input tensor\n",
        "    #2 by default the second dimention is set to 2\n",
        "\n",
        "    #get mu and log_var\n",
        "    mu = x[:, 0, :] #the first feature as mean\n",
        "    log_var = x[:, 1, :]#the other feature values as variance\n",
        "\n",
        "    #get the latent vector through reparameterization\n",
        "    z = self.reparameterize(mu, log_var)\n",
        "\n",
        "    return z, mu, log_var\n",
        "\n",
        "  def decode(self, z, mu, log_var):\n",
        "    #decoding\n",
        "    x = F.relu(self.decoder_layer_1(z))\n",
        "    reconstruction = torch.sigmoid(self.decoder_layer_2(x))\n",
        "\n",
        "    return reconstruction, mu, log_var\n",
        "\n",
        "  def sample(self, mu, log_var):\n",
        "    z = self.reparameterize(mu, log_var)\n",
        "    reconstruction, mu, log_var = self.decode(z, mu, log_var)\n",
        "\n",
        "    return reconstruction\n",
        "\n",
        "  def forward(self, x):\n",
        "    z, mu, log_var = self.encode(x)\n",
        "    reconstruction, mu, log_var = self.decode(z, mu, log_var)\n",
        "\n",
        "    return reconstruction, mu, log_var\n",
        "\n"
      ],
      "metadata": {
        "id": "tJnB6qUFt0bH"
      },
      "execution_count": null,
      "outputs": []
    },
    {
      "cell_type": "markdown",
      "source": [
        "##Custom Dataset"
      ],
      "metadata": {
        "id": "LeUTDI4D5wfW"
      }
    },
    {
      "cell_type": "code",
      "source": [
        "class AutoencoderDataset(Dataset):\n",
        "  def __init__(self, x):\n",
        "    self.x = x\n",
        "\n",
        "    self.n_samples = len(x)\n",
        "\n",
        "  def __getitem__(self, index):\n",
        "    return self.x[index], self.x[index]\n",
        "\n",
        "  def __len__(self):\n",
        "    return self.n_samples"
      ],
      "metadata": {
        "id": "uZWj4uCa5vpr"
      },
      "execution_count": null,
      "outputs": []
    },
    {
      "cell_type": "markdown",
      "source": [
        "##Bongo(Dog) Images"
      ],
      "metadata": {
        "id": "eFU0TXbO6cMd"
      }
    },
    {
      "cell_type": "code",
      "source": [
        "img_width = 28\n",
        "img_height = 28\n",
        "\n",
        "dim = (img_width, img_height)\n",
        "\n",
        "luna = [\n",
        "    \"https://i.pinimg.com/736x/d4/7d/83/d47d83b04f22bde6788ca42761e6ccda.jpg\",\n",
        "    \"https://www.famousbirthdays.com/headshots/crunchy-cat-luna-4.jpg\",\n",
        "    \"https://www.famousbirthdays.com/headshots/crunchy-cat-luna-2.jpg\",\n",
        "    \"https://i.pinimg.com/originals/ab/78/aa/ab78aabc7191731a6c5d94f3ae7d3bf0.jpg\",\n",
        "    \"https://www.famousbirthdays.com/headshots/crunchy-cat-luna-9.jpg\"\n",
        "]\n",
        "\n",
        "images = []\n",
        "\n",
        "for luna_url in luna:\n",
        "  req = urllib.request.urlopen(luna_url)\n",
        "  luna = np.asarray(bytearray(req.read()))\n",
        "  luna = cv2.imdecode(luna, -1) #image decpde\n",
        "  luna = cv2.cvtColor(luna, cv2.COLOR_BGR2GRAY) #convert color to grayscale 1 channel\n",
        "  #img = read as grayscale 1 channel images and normalize\n",
        "  img = luna / 255\n",
        "\n",
        "  img = cv2.resize(img, dim)\n",
        "  images.append(img)\n",
        "\n",
        "num_images = len(images)\n",
        "num_cols = 1\n",
        "\n",
        "col_names = [\n",
        "    \"Original\"\n",
        "]\n",
        "\n",
        "fig, axes = plt.subplots(nrows = num_images, ncols = num_cols,\n",
        "                         figsize = (num_cols*4, num_images*4))\n",
        "counter = 0\n",
        "\n",
        "for img in images:\n",
        "  counter += 1\n",
        "  plt.subplot(len(images),num_cols, counter)\n",
        "  plt.imshow(img)"
      ],
      "metadata": {
        "colab": {
          "base_uri": "https://localhost:8080/",
          "height": 1000
        },
        "id": "-LV97Pc36gYZ",
        "outputId": "29c2619a-ee24-4486-f5a0-539f6bb85f98"
      },
      "execution_count": null,
      "outputs": [
        {
          "output_type": "display_data",
          "data": {
            "text/plain": [
              "<Figure size 400x2000 with 5 Axes>"
            ],
            "image/png": "[encoded data removed]"
          },
          "metadata": {}
        }
      ]
    },
    {
      "cell_type": "markdown",
      "source": [
        "##Assignment\n",
        "Try your model to form different shape using 5 different images of flowers, cats, or any image"
      ],
      "metadata": {
        "id": "eUZTfnZF9plK"
      }
    },
    {
      "cell_type": "markdown",
      "source": [
        "## 310124 - S02"
      ],
      "metadata": {
        "id": "SPjAuy93mZRb"
      }
    },
    {
      "cell_type": "code",
      "source": [
        "data = []\n",
        "\n",
        "#ravel() function in numpy used to flatten a multi-dimensional array into a one-dimensional array\n",
        "\n",
        "for img in images:\n",
        "  data.append(img.ravel())\n",
        "np.array(data).shape"
      ],
      "metadata": {
        "colab": {
          "base_uri": "https://localhost:8080/"
        },
        "id": "xRcrmOI0mh1E",
        "outputId": "2e4f807d-be96-4295-c0ac-8574a954e6ef"
      },
      "execution_count": null,
      "outputs": [
        {
          "output_type": "execute_result",
          "data": {
            "text/plain": [
              "(5, 784)"
            ]
          },
          "metadata": {},
          "execution_count": 15
        }
      ]
    },
    {
      "cell_type": "code",
      "source": [
        "#Create a feature vector in images\n",
        "x = torch.Tensor(np.array(data))\n",
        "#np.array(data) it converts the list data which contains flattened image data into a\n",
        "#x = torch.Tensor(np.array(data)) converts the numpy array into a pytorch. A tensor\n",
        "#is a multi-dimensional array that can be used for numerical computation in Pytorch\n",
        "x"
      ],
      "metadata": {
        "colab": {
          "base_uri": "https://localhost:8080/"
        },
        "id": "e2vYSAvxoEMa",
        "outputId": "bfb2eed0-b5b3-46df-e309-ff9c938497c0"
      },
      "execution_count": null,
      "outputs": [
        {
          "output_type": "execute_result",
          "data": {
            "text/plain": [
              "tensor([[0.0745, 0.5672, 0.7277,  ..., 0.8275, 0.8549, 0.8824],\n",
              "        [0.4246, 0.4078, 0.4077,  ..., 0.0667, 0.0848, 0.0699],\n",
              "        [0.6510, 0.3882, 0.4822,  ..., 0.9120, 0.9168, 0.8818],\n",
              "        [0.7279, 0.7516, 0.7826,  ..., 0.1368, 0.0504, 0.3337],\n",
              "        [0.6510, 0.7132, 0.8364,  ..., 0.2026, 0.0050, 0.0039]])"
            ]
          },
          "metadata": {},
          "execution_count": 6
        }
      ]
    },
    {
      "cell_type": "code",
      "source": [
        "#setup configuration for training\n",
        "\n",
        "device = 'cpu'\n",
        "learning_rate = 0.001 #default is 0.001 | hyperparameter\n",
        "epochs = 100 #per 100/ assume that dataset has 100x training process | hyperparameter\n",
        "#epochs refers to the number of times the entire training dataset is processed by learning algorithm\n",
        "batch_size = 1 #hyperparameter\n",
        "num_features = 8 #features of img\n",
        "num_dim = 784\n",
        "\n",
        "model = VariationalAutoencoder(num_features = num_features, num_dim = num_dim)\n",
        "optimizer = optim.Adam(model.parameters(), lr = learning_rate)\n",
        "'''\n",
        "  criterion - its purpose is to adjust the model's parameters in order to minimize the loss in prediction\n",
        "  optim.Adam refers to the Adam optimizer, one of the popular optimization algorithm\n",
        "  used in machine learning by combining the ideas from two other optimization algorithm\n",
        "\n",
        "  model.parameter() it specifies which parameters of the model should be optimized\n",
        "  The model's parameters are the internal values that the algo adjusts during training\n",
        "  to make better predictions\n",
        "\n",
        "  learning rate is the hyperparameter that determines the step size at which the\n",
        "  optimizer adjusts the model parameters\n",
        "\n",
        "  hyperparameter configuration - values we set before the training process start\n",
        "    -is also a configuration setting external to a model that can't be learned from\n",
        "  the data\n",
        "    -- they are not learned during the training but are specified by the\n",
        "    practitioner based on prior knowledge, experience, or tuning experiment\n",
        "'''\n",
        "\n",
        "'''\n",
        "is to setup the criterion(loss function) for a binary classification problem using\n",
        "Pytorch\n",
        "\n",
        "nn.BCELoss this stands for Binary Cross Entropy Loss - it is commonly used loss\n",
        "function for binary classification problem, it penalizes the model more when it\n",
        "makes predictions that are far from actual binary labels (0,1)\n",
        "\n",
        "reduction = 'sum' this parameter specifies how the individual losses each data\n",
        "point should combine or aggregate\n",
        "'''\n",
        "criterion = nn.BCELoss(reduction = 'sum')"
      ],
      "metadata": {
        "id": "N87B1GhNpOzN"
      },
      "execution_count": null,
      "outputs": []
    },
    {
      "cell_type": "code",
      "source": [
        "'''\n",
        "Loss Function\n",
        "\n",
        "This function will add the reconstruction loss (BCELoss) and KL-Divergence\n",
        "KL-Divergence = 0.5 * sum (1 + log(sigma^2) - mu^2 - sigma^2)\n",
        "!param bce_loss: reconstruction loss\n",
        "!param mu: the mean from the latent vector\n",
        "!param logvar: log variance from the latent vector\n",
        "'''\n",
        "def final_loss(bce_loss, mu, logvar):\n",
        "  BCE = bce_loss\n",
        "  KLD = -0.5 * torch.sum(1 + logvar - mu.pow(2) - logvar.exp())\n",
        "  return BCE + KLD"
      ],
      "metadata": {
        "id": "BzazQ4VivhAO"
      },
      "execution_count": null,
      "outputs": []
    },
    {
      "cell_type": "code",
      "source": [
        "#preparation of dataset\n",
        "train_ds = AutoencoderDataset(\n",
        "    x = x\n",
        ")\n",
        "\n",
        "#loader is a function that trains a machine learning model using a dataset\n",
        "train_loader = DataLoader(\n",
        "  train_ds,\n",
        "  batch_size = batch_size,\n",
        "  shuffle = False,\n",
        "  drop_last = False\n",
        ")"
      ],
      "metadata": {
        "id": "0HYp_w44xD-1"
      },
      "execution_count": null,
      "outputs": []
    },
    {
      "cell_type": "code",
      "source": [
        "#train function\n",
        "\n",
        "def train_fn(loader, model, optimizer, loss_fn):\n",
        "  loop = tqdm(loader)\n",
        "\n",
        "  ave_loss = 0.0\n",
        "  count = 0 #per cycle\n",
        "\n",
        "  for batch_idx, (data, targets) in enumerate(loop):\n",
        "    data = data.to(device = device)\n",
        "    targets = targets.to(device = device)\n",
        "\n",
        "    #backward optimizer\n",
        "    optimizer.zero_grad()\n",
        "\n",
        "    reconstruction, mu, logvar = model.forward(data)\n",
        "\n",
        "    bce_loss = criterion(reconstruction, data)\n",
        "\n",
        "    loss = final_loss(bce_loss, mu, logvar)\n",
        "\n",
        "    loss.backward()\n",
        "\n",
        "    optimizer.step()\n",
        "\n",
        "    #update tqdm\n",
        "    loop.set_postfix(loss = loss.item())\n",
        "\n",
        "    ave_loss += loss.item()\n",
        "    count += 1\n",
        "\n",
        "  ave_loss = ave_loss / count\n",
        "  return ave_loss"
      ],
      "metadata": {
        "id": "ZXzPNDFWzLe3"
      },
      "execution_count": null,
      "outputs": []
    },
    {
      "cell_type": "code",
      "source": [
        "#perform training\n",
        "losses = []\n",
        "\n",
        "for epoch in range(epochs):\n",
        "  print(\"Epoch: {}\".format(epoch))\n",
        "  ave_loss = train_fn(train_loader, model, optimizer, final_loss)\n",
        "  print(\"Average Loss: {}\".format(ave_loss))\n",
        "\n",
        "  state = {\n",
        "      \"state dict\": model.state_dict(),\n",
        "      \"optimizer\": optimizer.state_dict()\n",
        "  }\n",
        "  torch.save(state, \"autoencoder.pth\")\n",
        "\n",
        "  losses.append(ave_loss)"
      ],
      "metadata": {
        "colab": {
          "base_uri": "https://localhost:8080/"
        },
        "id": "7UK71mP51Fkr",
        "outputId": "4954067e-5ef9-44d1-8fad-1c1895724bc9"
      },
      "execution_count": null,
      "outputs": [
        {
          "output_type": "stream",
          "name": "stdout",
          "text": [
            "Epoch: 0\n"
          ]
        },
        {
          "output_type": "stream",
          "name": "stderr",
          "text": [
            "100%|██████████| 5/5 [00:00<00:00, 14.44it/s, loss=547]\n"
          ]
        },
        {
          "output_type": "stream",
          "name": "stdout",
          "text": [
            "Average Loss: 548.8007202148438\n",
            "Epoch: 1\n"
          ]
        },
        {
          "output_type": "stream",
          "name": "stderr",
          "text": [
            "100%|██████████| 5/5 [00:00<00:00, 28.18it/s, loss=546]\n"
          ]
        },
        {
          "output_type": "stream",
          "name": "stdout",
          "text": [
            "Average Loss: 542.7228149414062\n",
            "Epoch: 2\n"
          ]
        },
        {
          "output_type": "stream",
          "name": "stderr",
          "text": [
            "100%|██████████| 5/5 [00:00<00:00, 40.67it/s, loss=526]\n"
          ]
        },
        {
          "output_type": "stream",
          "name": "stdout",
          "text": [
            "Average Loss: 527.9385864257813\n",
            "Epoch: 3\n"
          ]
        },
        {
          "output_type": "stream",
          "name": "stderr",
          "text": [
            "100%|██████████| 5/5 [00:00<00:00, 44.17it/s, loss=525]\n"
          ]
        },
        {
          "output_type": "stream",
          "name": "stdout",
          "text": [
            "Average Loss: 521.0033569335938\n",
            "Epoch: 4\n"
          ]
        },
        {
          "output_type": "stream",
          "name": "stderr",
          "text": [
            "100%|██████████| 5/5 [00:00<00:00, 56.45it/s, loss=513]\n"
          ]
        },
        {
          "output_type": "stream",
          "name": "stdout",
          "text": [
            "Average Loss: 522.8328369140625\n",
            "Epoch: 5\n"
          ]
        },
        {
          "output_type": "stream",
          "name": "stderr",
          "text": [
            "100%|██████████| 5/5 [00:00<00:00, 50.27it/s, loss=517]\n"
          ]
        },
        {
          "output_type": "stream",
          "name": "stdout",
          "text": [
            "Average Loss: 524.3920837402344\n",
            "Epoch: 6\n"
          ]
        },
        {
          "output_type": "stream",
          "name": "stderr",
          "text": [
            "100%|██████████| 5/5 [00:00<00:00, 53.03it/s, loss=502]\n"
          ]
        },
        {
          "output_type": "stream",
          "name": "stdout",
          "text": [
            "Average Loss: 515.0957580566406\n",
            "Epoch: 7\n"
          ]
        },
        {
          "output_type": "stream",
          "name": "stderr",
          "text": [
            "100%|██████████| 5/5 [00:00<00:00, 33.29it/s, loss=485]"
          ]
        },
        {
          "output_type": "stream",
          "name": "stdout",
          "text": [
            "Average Loss: 511.8318725585938\n",
            "Epoch: 8\n"
          ]
        },
        {
          "output_type": "stream",
          "name": "stderr",
          "text": [
            "\n",
            "100%|██████████| 5/5 [00:00<00:00, 44.14it/s, loss=484]\n"
          ]
        },
        {
          "output_type": "stream",
          "name": "stdout",
          "text": [
            "Average Loss: 506.888916015625\n",
            "Epoch: 9\n"
          ]
        },
        {
          "output_type": "stream",
          "name": "stderr",
          "text": [
            "100%|██████████| 5/5 [00:00<00:00, 34.23it/s, loss=483]\n"
          ]
        },
        {
          "output_type": "stream",
          "name": "stdout",
          "text": [
            "Average Loss: 502.7185913085938\n",
            "Epoch: 10\n"
          ]
        },
        {
          "output_type": "stream",
          "name": "stderr",
          "text": [
            "100%|██████████| 5/5 [00:00<00:00, 54.62it/s, loss=470]\n"
          ]
        },
        {
          "output_type": "stream",
          "name": "stdout",
          "text": [
            "Average Loss: 489.93385620117186\n",
            "Epoch: 11\n"
          ]
        },
        {
          "output_type": "stream",
          "name": "stderr",
          "text": [
            "100%|██████████| 5/5 [00:00<00:00, 55.24it/s, loss=461]\n"
          ]
        },
        {
          "output_type": "stream",
          "name": "stdout",
          "text": [
            "Average Loss: 483.63486328125\n",
            "Epoch: 12\n"
          ]
        },
        {
          "output_type": "stream",
          "name": "stderr",
          "text": [
            "100%|██████████| 5/5 [00:00<00:00, 58.76it/s, loss=482]\n"
          ]
        },
        {
          "output_type": "stream",
          "name": "stdout",
          "text": [
            "Average Loss: 496.59758911132815\n",
            "Epoch: 13\n"
          ]
        },
        {
          "output_type": "stream",
          "name": "stderr",
          "text": [
            "100%|██████████| 5/5 [00:00<00:00, 38.58it/s, loss=511]\n"
          ]
        },
        {
          "output_type": "stream",
          "name": "stdout",
          "text": [
            "Average Loss: 489.1161254882812\n",
            "Epoch: 14\n"
          ]
        },
        {
          "output_type": "stream",
          "name": "stderr",
          "text": [
            "100%|██████████| 5/5 [00:00<00:00, 68.33it/s, loss=449]\n"
          ]
        },
        {
          "output_type": "stream",
          "name": "stdout",
          "text": [
            "Average Loss: 476.99244995117186\n",
            "Epoch: 15\n"
          ]
        },
        {
          "output_type": "stream",
          "name": "stderr",
          "text": [
            "100%|██████████| 5/5 [00:00<00:00, 34.82it/s, loss=442]\n"
          ]
        },
        {
          "output_type": "stream",
          "name": "stdout",
          "text": [
            "Average Loss: 473.11631469726564\n",
            "Epoch: 16\n"
          ]
        },
        {
          "output_type": "stream",
          "name": "stderr",
          "text": [
            "100%|██████████| 5/5 [00:00<00:00, 25.19it/s, loss=446]\n"
          ]
        },
        {
          "output_type": "stream",
          "name": "stdout",
          "text": [
            "Average Loss: 471.34417114257815\n",
            "Epoch: 17\n"
          ]
        },
        {
          "output_type": "stream",
          "name": "stderr",
          "text": [
            "100%|██████████| 5/5 [00:00<00:00, 28.19it/s, loss=446]\n"
          ]
        },
        {
          "output_type": "stream",
          "name": "stdout",
          "text": [
            "Average Loss: 468.2982238769531\n",
            "Epoch: 18\n"
          ]
        },
        {
          "output_type": "stream",
          "name": "stderr",
          "text": [
            "100%|██████████| 5/5 [00:00<00:00, 20.99it/s, loss=437]\n"
          ]
        },
        {
          "output_type": "stream",
          "name": "stdout",
          "text": [
            "Average Loss: 461.49656372070314\n",
            "Epoch: 19\n"
          ]
        },
        {
          "output_type": "stream",
          "name": "stderr",
          "text": [
            "100%|██████████| 5/5 [00:00<00:00, 30.62it/s, loss=450]\n"
          ]
        },
        {
          "output_type": "stream",
          "name": "stdout",
          "text": [
            "Average Loss: 461.7006896972656\n",
            "Epoch: 20\n"
          ]
        },
        {
          "output_type": "stream",
          "name": "stderr",
          "text": [
            "100%|██████████| 5/5 [00:00<00:00, 52.87it/s, loss=433]\n"
          ]
        },
        {
          "output_type": "stream",
          "name": "stdout",
          "text": [
            "Average Loss: 458.67665405273436\n",
            "Epoch: 21\n"
          ]
        },
        {
          "output_type": "stream",
          "name": "stderr",
          "text": [
            "100%|██████████| 5/5 [00:00<00:00, 36.68it/s, loss=437]\n"
          ]
        },
        {
          "output_type": "stream",
          "name": "stdout",
          "text": [
            "Average Loss: 456.07317504882815\n",
            "Epoch: 22\n"
          ]
        },
        {
          "output_type": "stream",
          "name": "stderr",
          "text": [
            "100%|██████████| 5/5 [00:00<00:00, 50.16it/s, loss=434]\n"
          ]
        },
        {
          "output_type": "stream",
          "name": "stdout",
          "text": [
            "Average Loss: 456.5343811035156\n",
            "Epoch: 23\n"
          ]
        },
        {
          "output_type": "stream",
          "name": "stderr",
          "text": [
            "100%|██████████| 5/5 [00:00<00:00, 31.88it/s, loss=438]\n"
          ]
        },
        {
          "output_type": "stream",
          "name": "stdout",
          "text": [
            "Average Loss: 453.4192321777344\n",
            "Epoch: 24\n"
          ]
        },
        {
          "output_type": "stream",
          "name": "stderr",
          "text": [
            "100%|██████████| 5/5 [00:00<00:00, 44.96it/s, loss=430]\n"
          ]
        },
        {
          "output_type": "stream",
          "name": "stdout",
          "text": [
            "Average Loss: 454.15692138671875\n",
            "Epoch: 25\n"
          ]
        },
        {
          "output_type": "stream",
          "name": "stderr",
          "text": [
            "100%|██████████| 5/5 [00:00<00:00, 35.90it/s, loss=429]"
          ]
        },
        {
          "output_type": "stream",
          "name": "stdout",
          "text": [
            "Average Loss: 450.4970397949219\n"
          ]
        },
        {
          "output_type": "stream",
          "name": "stderr",
          "text": [
            "\n"
          ]
        },
        {
          "output_type": "stream",
          "name": "stdout",
          "text": [
            "Epoch: 26\n"
          ]
        },
        {
          "output_type": "stream",
          "name": "stderr",
          "text": [
            "100%|██████████| 5/5 [00:00<00:00, 41.80it/s, loss=428]\n"
          ]
        },
        {
          "output_type": "stream",
          "name": "stdout",
          "text": [
            "Average Loss: 448.91717529296875\n",
            "Epoch: 27\n"
          ]
        },
        {
          "output_type": "stream",
          "name": "stderr",
          "text": [
            "100%|██████████| 5/5 [00:00<00:00, 54.61it/s, loss=435]\n"
          ]
        },
        {
          "output_type": "stream",
          "name": "stdout",
          "text": [
            "Average Loss: 449.9706726074219\n",
            "Epoch: 28\n"
          ]
        },
        {
          "output_type": "stream",
          "name": "stderr",
          "text": [
            "100%|██████████| 5/5 [00:00<00:00, 75.71it/s, loss=429]\n"
          ]
        },
        {
          "output_type": "stream",
          "name": "stdout",
          "text": [
            "Average Loss: 450.5588317871094\n",
            "Epoch: 29\n"
          ]
        },
        {
          "output_type": "stream",
          "name": "stderr",
          "text": [
            "100%|██████████| 5/5 [00:00<00:00, 86.68it/s, loss=430]\n"
          ]
        },
        {
          "output_type": "stream",
          "name": "stdout",
          "text": [
            "Average Loss: 452.37864990234374\n",
            "Epoch: 30\n"
          ]
        },
        {
          "output_type": "stream",
          "name": "stderr",
          "text": [
            "100%|██████████| 5/5 [00:00<00:00, 85.36it/s, loss=429]\n"
          ]
        },
        {
          "output_type": "stream",
          "name": "stdout",
          "text": [
            "Average Loss: 447.47877807617186\n",
            "Epoch: 31\n"
          ]
        },
        {
          "output_type": "stream",
          "name": "stderr",
          "text": [
            "100%|██████████| 5/5 [00:00<00:00, 78.26it/s, loss=425]\n"
          ]
        },
        {
          "output_type": "stream",
          "name": "stdout",
          "text": [
            "Average Loss: 452.29766845703125\n",
            "Epoch: 32\n"
          ]
        },
        {
          "output_type": "stream",
          "name": "stderr",
          "text": [
            "100%|██████████| 5/5 [00:00<00:00, 86.70it/s, loss=429]\n"
          ]
        },
        {
          "output_type": "stream",
          "name": "stdout",
          "text": [
            "Average Loss: 449.0539306640625\n",
            "Epoch: 33\n"
          ]
        },
        {
          "output_type": "stream",
          "name": "stderr",
          "text": [
            "100%|██████████| 5/5 [00:00<00:00, 79.55it/s, loss=428]\n"
          ]
        },
        {
          "output_type": "stream",
          "name": "stdout",
          "text": [
            "Average Loss: 449.41135864257814\n",
            "Epoch: 34\n"
          ]
        },
        {
          "output_type": "stream",
          "name": "stderr",
          "text": [
            "100%|██████████| 5/5 [00:00<00:00, 74.69it/s, loss=426]\n"
          ]
        },
        {
          "output_type": "stream",
          "name": "stdout",
          "text": [
            "Average Loss: 447.8047241210937\n",
            "Epoch: 35\n"
          ]
        },
        {
          "output_type": "stream",
          "name": "stderr",
          "text": [
            "100%|██████████| 5/5 [00:00<00:00, 75.76it/s, loss=427]"
          ]
        },
        {
          "output_type": "stream",
          "name": "stdout",
          "text": [
            "Average Loss: 447.21043701171874\n"
          ]
        },
        {
          "output_type": "stream",
          "name": "stderr",
          "text": [
            "\n"
          ]
        },
        {
          "output_type": "stream",
          "name": "stdout",
          "text": [
            "Epoch: 36\n"
          ]
        },
        {
          "output_type": "stream",
          "name": "stderr",
          "text": [
            "100%|██████████| 5/5 [00:00<00:00, 69.14it/s, loss=428]\n"
          ]
        },
        {
          "output_type": "stream",
          "name": "stdout",
          "text": [
            "Average Loss: 452.1369689941406\n",
            "Epoch: 37\n"
          ]
        },
        {
          "output_type": "stream",
          "name": "stderr",
          "text": [
            "100%|██████████| 5/5 [00:00<00:00, 73.17it/s, loss=425]\n"
          ]
        },
        {
          "output_type": "stream",
          "name": "stdout",
          "text": [
            "Average Loss: 451.2176208496094\n",
            "Epoch: 38\n"
          ]
        },
        {
          "output_type": "stream",
          "name": "stderr",
          "text": [
            "100%|██████████| 5/5 [00:00<00:00, 71.65it/s, loss=425]\n"
          ]
        },
        {
          "output_type": "stream",
          "name": "stdout",
          "text": [
            "Average Loss: 448.0199340820312\n",
            "Epoch: 39\n"
          ]
        },
        {
          "output_type": "stream",
          "name": "stderr",
          "text": [
            "100%|██████████| 5/5 [00:00<00:00, 74.96it/s, loss=425]\n"
          ]
        },
        {
          "output_type": "stream",
          "name": "stdout",
          "text": [
            "Average Loss: 447.4529602050781\n",
            "Epoch: 40\n"
          ]
        },
        {
          "output_type": "stream",
          "name": "stderr",
          "text": [
            "100%|██████████| 5/5 [00:00<00:00, 69.41it/s, loss=429]\n"
          ]
        },
        {
          "output_type": "stream",
          "name": "stdout",
          "text": [
            "Average Loss: 448.54212646484376\n",
            "Epoch: 41\n"
          ]
        },
        {
          "output_type": "stream",
          "name": "stderr",
          "text": [
            "100%|██████████| 5/5 [00:00<00:00, 78.86it/s, loss=424]"
          ]
        },
        {
          "output_type": "stream",
          "name": "stdout",
          "text": [
            "Average Loss: 445.88433227539065\n"
          ]
        },
        {
          "output_type": "stream",
          "name": "stderr",
          "text": [
            "\n"
          ]
        },
        {
          "output_type": "stream",
          "name": "stdout",
          "text": [
            "Epoch: 42\n"
          ]
        },
        {
          "output_type": "stream",
          "name": "stderr",
          "text": [
            "100%|██████████| 5/5 [00:00<00:00, 85.96it/s, loss=431]\n"
          ]
        },
        {
          "output_type": "stream",
          "name": "stdout",
          "text": [
            "Average Loss: 448.89927978515624\n",
            "Epoch: 43\n"
          ]
        },
        {
          "output_type": "stream",
          "name": "stderr",
          "text": [
            "100%|██████████| 5/5 [00:00<00:00, 91.38it/s, loss=431]\n"
          ]
        },
        {
          "output_type": "stream",
          "name": "stdout",
          "text": [
            "Average Loss: 451.18059692382815\n",
            "Epoch: 44\n"
          ]
        },
        {
          "output_type": "stream",
          "name": "stderr",
          "text": [
            "100%|██████████| 5/5 [00:00<00:00, 81.61it/s, loss=433]\n"
          ]
        },
        {
          "output_type": "stream",
          "name": "stdout",
          "text": [
            "Average Loss: 448.7778747558594\n",
            "Epoch: 45\n"
          ]
        },
        {
          "output_type": "stream",
          "name": "stderr",
          "text": [
            "100%|██████████| 5/5 [00:00<00:00, 79.38it/s, loss=424]\n"
          ]
        },
        {
          "output_type": "stream",
          "name": "stdout",
          "text": [
            "Average Loss: 447.9693969726562\n",
            "Epoch: 46\n"
          ]
        },
        {
          "output_type": "stream",
          "name": "stderr",
          "text": [
            "100%|██████████| 5/5 [00:00<00:00, 77.99it/s, loss=432]\n"
          ]
        },
        {
          "output_type": "stream",
          "name": "stdout",
          "text": [
            "Average Loss: 447.43935546875\n",
            "Epoch: 47\n"
          ]
        },
        {
          "output_type": "stream",
          "name": "stderr",
          "text": [
            "100%|██████████| 5/5 [00:00<00:00, 78.78it/s, loss=429]\n"
          ]
        },
        {
          "output_type": "stream",
          "name": "stdout",
          "text": [
            "Average Loss: 452.22991943359375\n",
            "Epoch: 48\n"
          ]
        },
        {
          "output_type": "stream",
          "name": "stderr",
          "text": [
            "100%|██████████| 5/5 [00:00<00:00, 71.37it/s, loss=423]"
          ]
        },
        {
          "output_type": "stream",
          "name": "stdout",
          "text": [
            "Average Loss: 446.635205078125\n"
          ]
        },
        {
          "output_type": "stream",
          "name": "stderr",
          "text": [
            "\n"
          ]
        },
        {
          "output_type": "stream",
          "name": "stdout",
          "text": [
            "Epoch: 49\n"
          ]
        },
        {
          "output_type": "stream",
          "name": "stderr",
          "text": [
            "100%|██████████| 5/5 [00:00<00:00, 68.20it/s, loss=432]"
          ]
        },
        {
          "output_type": "stream",
          "name": "stdout",
          "text": [
            "Average Loss: 449.05919189453124\n"
          ]
        },
        {
          "output_type": "stream",
          "name": "stderr",
          "text": [
            "\n"
          ]
        },
        {
          "output_type": "stream",
          "name": "stdout",
          "text": [
            "Epoch: 50\n"
          ]
        },
        {
          "output_type": "stream",
          "name": "stderr",
          "text": [
            "100%|██████████| 5/5 [00:00<00:00, 82.86it/s, loss=428]"
          ]
        },
        {
          "output_type": "stream",
          "name": "stdout",
          "text": [
            "Average Loss: 446.62257080078126\n"
          ]
        },
        {
          "output_type": "stream",
          "name": "stderr",
          "text": [
            "\n"
          ]
        },
        {
          "output_type": "stream",
          "name": "stdout",
          "text": [
            "Epoch: 51\n"
          ]
        },
        {
          "output_type": "stream",
          "name": "stderr",
          "text": [
            "100%|██████████| 5/5 [00:00<00:00, 75.91it/s, loss=435]"
          ]
        },
        {
          "output_type": "stream",
          "name": "stdout",
          "text": [
            "Average Loss: 446.7331115722656\n"
          ]
        },
        {
          "output_type": "stream",
          "name": "stderr",
          "text": [
            "\n"
          ]
        },
        {
          "output_type": "stream",
          "name": "stdout",
          "text": [
            "Epoch: 52\n"
          ]
        },
        {
          "output_type": "stream",
          "name": "stderr",
          "text": [
            "100%|██████████| 5/5 [00:00<00:00, 78.55it/s, loss=439]"
          ]
        },
        {
          "output_type": "stream",
          "name": "stdout",
          "text": [
            "Average Loss: 448.2143798828125\n"
          ]
        },
        {
          "output_type": "stream",
          "name": "stderr",
          "text": [
            "\n"
          ]
        },
        {
          "output_type": "stream",
          "name": "stdout",
          "text": [
            "Epoch: 53\n"
          ]
        },
        {
          "output_type": "stream",
          "name": "stderr",
          "text": [
            "100%|██████████| 5/5 [00:00<00:00, 69.01it/s, loss=436]"
          ]
        },
        {
          "output_type": "stream",
          "name": "stdout",
          "text": [
            "Average Loss: 450.70892333984375\n"
          ]
        },
        {
          "output_type": "stream",
          "name": "stderr",
          "text": [
            "\n"
          ]
        },
        {
          "output_type": "stream",
          "name": "stdout",
          "text": [
            "Epoch: 54\n"
          ]
        },
        {
          "output_type": "stream",
          "name": "stderr",
          "text": [
            "100%|██████████| 5/5 [00:00<00:00, 68.87it/s, loss=429]"
          ]
        },
        {
          "output_type": "stream",
          "name": "stdout",
          "text": [
            "Average Loss: 449.7469482421875\n"
          ]
        },
        {
          "output_type": "stream",
          "name": "stderr",
          "text": [
            "\n"
          ]
        },
        {
          "output_type": "stream",
          "name": "stdout",
          "text": [
            "Epoch: 55\n"
          ]
        },
        {
          "output_type": "stream",
          "name": "stderr",
          "text": [
            "100%|██████████| 5/5 [00:00<00:00, 80.53it/s, loss=428]"
          ]
        },
        {
          "output_type": "stream",
          "name": "stdout",
          "text": [
            "Average Loss: 449.5899658203125\n"
          ]
        },
        {
          "output_type": "stream",
          "name": "stderr",
          "text": [
            "\n"
          ]
        },
        {
          "output_type": "stream",
          "name": "stdout",
          "text": [
            "Epoch: 56\n"
          ]
        },
        {
          "output_type": "stream",
          "name": "stderr",
          "text": [
            "100%|██████████| 5/5 [00:00<00:00, 77.12it/s, loss=425]\n"
          ]
        },
        {
          "output_type": "stream",
          "name": "stdout",
          "text": [
            "Average Loss: 445.527197265625\n",
            "Epoch: 57\n"
          ]
        },
        {
          "output_type": "stream",
          "name": "stderr",
          "text": [
            "100%|██████████| 5/5 [00:00<00:00, 81.58it/s, loss=424]\n"
          ]
        },
        {
          "output_type": "stream",
          "name": "stdout",
          "text": [
            "Average Loss: 445.2561279296875\n",
            "Epoch: 58\n"
          ]
        },
        {
          "output_type": "stream",
          "name": "stderr",
          "text": [
            "100%|██████████| 5/5 [00:00<00:00, 80.06it/s, loss=429]\n"
          ]
        },
        {
          "output_type": "stream",
          "name": "stdout",
          "text": [
            "Average Loss: 446.14093017578125\n",
            "Epoch: 59\n"
          ]
        },
        {
          "output_type": "stream",
          "name": "stderr",
          "text": [
            "100%|██████████| 5/5 [00:00<00:00, 54.23it/s, loss=424]"
          ]
        },
        {
          "output_type": "stream",
          "name": "stdout",
          "text": [
            "Average Loss: 452.76661987304686\n"
          ]
        },
        {
          "output_type": "stream",
          "name": "stderr",
          "text": [
            "\n"
          ]
        },
        {
          "output_type": "stream",
          "name": "stdout",
          "text": [
            "Epoch: 60\n"
          ]
        },
        {
          "output_type": "stream",
          "name": "stderr",
          "text": [
            "100%|██████████| 5/5 [00:00<00:00, 71.07it/s, loss=426]\n"
          ]
        },
        {
          "output_type": "stream",
          "name": "stdout",
          "text": [
            "Average Loss: 444.5321899414063\n",
            "Epoch: 61\n"
          ]
        },
        {
          "output_type": "stream",
          "name": "stderr",
          "text": [
            "100%|██████████| 5/5 [00:00<00:00, 59.60it/s, loss=425]"
          ]
        },
        {
          "output_type": "stream",
          "name": "stdout",
          "text": [
            "Average Loss: 450.3357727050781\n"
          ]
        },
        {
          "output_type": "stream",
          "name": "stderr",
          "text": [
            "\n"
          ]
        },
        {
          "output_type": "stream",
          "name": "stdout",
          "text": [
            "Epoch: 62\n"
          ]
        },
        {
          "output_type": "stream",
          "name": "stderr",
          "text": [
            "100%|██████████| 5/5 [00:00<00:00, 59.15it/s, loss=433]\n"
          ]
        },
        {
          "output_type": "stream",
          "name": "stdout",
          "text": [
            "Average Loss: 449.4434875488281\n",
            "Epoch: 63\n"
          ]
        },
        {
          "output_type": "stream",
          "name": "stderr",
          "text": [
            "100%|██████████| 5/5 [00:00<00:00, 61.37it/s, loss=446]\n"
          ]
        },
        {
          "output_type": "stream",
          "name": "stdout",
          "text": [
            "Average Loss: 455.6308837890625\n",
            "Epoch: 64\n"
          ]
        },
        {
          "output_type": "stream",
          "name": "stderr",
          "text": [
            "100%|██████████| 5/5 [00:00<00:00, 69.32it/s, loss=424]\n"
          ]
        },
        {
          "output_type": "stream",
          "name": "stdout",
          "text": [
            "Average Loss: 449.37702026367185\n",
            "Epoch: 65\n"
          ]
        },
        {
          "output_type": "stream",
          "name": "stderr",
          "text": [
            "100%|██████████| 5/5 [00:00<00:00, 57.02it/s, loss=433]\n"
          ]
        },
        {
          "output_type": "stream",
          "name": "stdout",
          "text": [
            "Average Loss: 451.38209838867186\n",
            "Epoch: 66\n"
          ]
        },
        {
          "output_type": "stream",
          "name": "stderr",
          "text": [
            "100%|██████████| 5/5 [00:00<00:00, 62.28it/s, loss=428]\n"
          ]
        },
        {
          "output_type": "stream",
          "name": "stdout",
          "text": [
            "Average Loss: 455.96727294921874\n",
            "Epoch: 67\n"
          ]
        },
        {
          "output_type": "stream",
          "name": "stderr",
          "text": [
            "100%|██████████| 5/5 [00:00<00:00, 52.00it/s, loss=451]\n"
          ]
        },
        {
          "output_type": "stream",
          "name": "stdout",
          "text": [
            "Average Loss: 451.0271728515625\n",
            "Epoch: 68\n"
          ]
        },
        {
          "output_type": "stream",
          "name": "stderr",
          "text": [
            "100%|██████████| 5/5 [00:00<00:00, 57.34it/s, loss=437]\n"
          ]
        },
        {
          "output_type": "stream",
          "name": "stdout",
          "text": [
            "Average Loss: 450.7701110839844\n",
            "Epoch: 69\n"
          ]
        },
        {
          "output_type": "stream",
          "name": "stderr",
          "text": [
            "100%|██████████| 5/5 [00:00<00:00, 65.51it/s, loss=431]\n"
          ]
        },
        {
          "output_type": "stream",
          "name": "stdout",
          "text": [
            "Average Loss: 448.8474365234375\n",
            "Epoch: 70\n"
          ]
        },
        {
          "output_type": "stream",
          "name": "stderr",
          "text": [
            "100%|██████████| 5/5 [00:00<00:00, 69.25it/s, loss=428]\n"
          ]
        },
        {
          "output_type": "stream",
          "name": "stdout",
          "text": [
            "Average Loss: 448.4432067871094\n",
            "Epoch: 71\n"
          ]
        },
        {
          "output_type": "stream",
          "name": "stderr",
          "text": [
            "100%|██████████| 5/5 [00:00<00:00, 66.80it/s, loss=429]\n"
          ]
        },
        {
          "output_type": "stream",
          "name": "stdout",
          "text": [
            "Average Loss: 446.94940795898435\n",
            "Epoch: 72\n"
          ]
        },
        {
          "output_type": "stream",
          "name": "stderr",
          "text": [
            "100%|██████████| 5/5 [00:00<00:00, 70.90it/s, loss=429]\n"
          ]
        },
        {
          "output_type": "stream",
          "name": "stdout",
          "text": [
            "Average Loss: 447.6234619140625\n",
            "Epoch: 73\n"
          ]
        },
        {
          "output_type": "stream",
          "name": "stderr",
          "text": [
            "100%|██████████| 5/5 [00:00<00:00, 70.28it/s, loss=428]\n"
          ]
        },
        {
          "output_type": "stream",
          "name": "stdout",
          "text": [
            "Average Loss: 446.794287109375\n",
            "Epoch: 74\n"
          ]
        },
        {
          "output_type": "stream",
          "name": "stderr",
          "text": [
            "100%|██████████| 5/5 [00:00<00:00, 60.72it/s, loss=424]\n"
          ]
        },
        {
          "output_type": "stream",
          "name": "stdout",
          "text": [
            "Average Loss: 446.91944580078126\n",
            "Epoch: 75\n"
          ]
        },
        {
          "output_type": "stream",
          "name": "stderr",
          "text": [
            "100%|██████████| 5/5 [00:00<00:00, 53.48it/s, loss=424]\n"
          ]
        },
        {
          "output_type": "stream",
          "name": "stdout",
          "text": [
            "Average Loss: 445.9056396484375\n",
            "Epoch: 76\n"
          ]
        },
        {
          "output_type": "stream",
          "name": "stderr",
          "text": [
            "100%|██████████| 5/5 [00:00<00:00, 59.45it/s, loss=423]\n"
          ]
        },
        {
          "output_type": "stream",
          "name": "stdout",
          "text": [
            "Average Loss: 442.6300537109375\n",
            "Epoch: 77\n"
          ]
        },
        {
          "output_type": "stream",
          "name": "stderr",
          "text": [
            "100%|██████████| 5/5 [00:00<00:00, 60.81it/s, loss=426]\n"
          ]
        },
        {
          "output_type": "stream",
          "name": "stdout",
          "text": [
            "Average Loss: 453.6649475097656\n",
            "Epoch: 78\n"
          ]
        },
        {
          "output_type": "stream",
          "name": "stderr",
          "text": [
            "100%|██████████| 5/5 [00:00<00:00, 67.01it/s, loss=426]\n"
          ]
        },
        {
          "output_type": "stream",
          "name": "stdout",
          "text": [
            "Average Loss: 446.955078125\n",
            "Epoch: 79\n"
          ]
        },
        {
          "output_type": "stream",
          "name": "stderr",
          "text": [
            "100%|██████████| 5/5 [00:00<00:00, 56.04it/s, loss=433]\n"
          ]
        },
        {
          "output_type": "stream",
          "name": "stdout",
          "text": [
            "Average Loss: 447.3756042480469\n",
            "Epoch: 80\n"
          ]
        },
        {
          "output_type": "stream",
          "name": "stderr",
          "text": [
            "100%|██████████| 5/5 [00:00<00:00, 58.07it/s, loss=426]\n"
          ]
        },
        {
          "output_type": "stream",
          "name": "stdout",
          "text": [
            "Average Loss: 449.5704345703125\n",
            "Epoch: 81\n"
          ]
        },
        {
          "output_type": "stream",
          "name": "stderr",
          "text": [
            "100%|██████████| 5/5 [00:00<00:00, 65.48it/s, loss=425]\n"
          ]
        },
        {
          "output_type": "stream",
          "name": "stdout",
          "text": [
            "Average Loss: 446.1181274414063\n",
            "Epoch: 82\n"
          ]
        },
        {
          "output_type": "stream",
          "name": "stderr",
          "text": [
            "100%|██████████| 5/5 [00:00<00:00, 54.62it/s, loss=473]\n"
          ]
        },
        {
          "output_type": "stream",
          "name": "stdout",
          "text": [
            "Average Loss: 456.06251831054686\n",
            "Epoch: 83\n"
          ]
        },
        {
          "output_type": "stream",
          "name": "stderr",
          "text": [
            "100%|██████████| 5/5 [00:00<00:00, 63.25it/s, loss=432]\n"
          ]
        },
        {
          "output_type": "stream",
          "name": "stdout",
          "text": [
            "Average Loss: 447.2867919921875\n",
            "Epoch: 84\n"
          ]
        },
        {
          "output_type": "stream",
          "name": "stderr",
          "text": [
            "100%|██████████| 5/5 [00:00<00:00, 64.36it/s, loss=427]\n"
          ]
        },
        {
          "output_type": "stream",
          "name": "stdout",
          "text": [
            "Average Loss: 445.96152954101564\n",
            "Epoch: 85\n"
          ]
        },
        {
          "output_type": "stream",
          "name": "stderr",
          "text": [
            "100%|██████████| 5/5 [00:00<00:00, 64.19it/s, loss=426]\n"
          ]
        },
        {
          "output_type": "stream",
          "name": "stdout",
          "text": [
            "Average Loss: 446.3571044921875\n",
            "Epoch: 86\n"
          ]
        },
        {
          "output_type": "stream",
          "name": "stderr",
          "text": [
            "100%|██████████| 5/5 [00:00<00:00, 74.22it/s, loss=425]\n"
          ]
        },
        {
          "output_type": "stream",
          "name": "stdout",
          "text": [
            "Average Loss: 445.52135009765624\n",
            "Epoch: 87\n"
          ]
        },
        {
          "output_type": "stream",
          "name": "stderr",
          "text": [
            "100%|██████████| 5/5 [00:00<00:00, 55.34it/s, loss=422]\n"
          ]
        },
        {
          "output_type": "stream",
          "name": "stdout",
          "text": [
            "Average Loss: 444.5285949707031\n",
            "Epoch: 88\n"
          ]
        },
        {
          "output_type": "stream",
          "name": "stderr",
          "text": [
            "100%|██████████| 5/5 [00:00<00:00, 51.43it/s, loss=425]\n"
          ]
        },
        {
          "output_type": "stream",
          "name": "stdout",
          "text": [
            "Average Loss: 445.58742065429686\n",
            "Epoch: 89\n"
          ]
        },
        {
          "output_type": "stream",
          "name": "stderr",
          "text": [
            "100%|██████████| 5/5 [00:00<00:00, 72.39it/s, loss=421]\n"
          ]
        },
        {
          "output_type": "stream",
          "name": "stdout",
          "text": [
            "Average Loss: 443.8189758300781\n",
            "Epoch: 90\n"
          ]
        },
        {
          "output_type": "stream",
          "name": "stderr",
          "text": [
            "100%|██████████| 5/5 [00:00<00:00, 81.59it/s, loss=428]\n"
          ]
        },
        {
          "output_type": "stream",
          "name": "stdout",
          "text": [
            "Average Loss: 446.76962890625\n",
            "Epoch: 91\n"
          ]
        },
        {
          "output_type": "stream",
          "name": "stderr",
          "text": [
            "100%|██████████| 5/5 [00:00<00:00, 77.61it/s, loss=435]\n"
          ]
        },
        {
          "output_type": "stream",
          "name": "stdout",
          "text": [
            "Average Loss: 446.7935852050781\n",
            "Epoch: 92\n"
          ]
        },
        {
          "output_type": "stream",
          "name": "stderr",
          "text": [
            "100%|██████████| 5/5 [00:00<00:00, 56.79it/s, loss=446]\n"
          ]
        },
        {
          "output_type": "stream",
          "name": "stdout",
          "text": [
            "Average Loss: 450.7749450683594\n",
            "Epoch: 93\n"
          ]
        },
        {
          "output_type": "stream",
          "name": "stderr",
          "text": [
            "100%|██████████| 5/5 [00:00<00:00, 76.90it/s, loss=429]\n"
          ]
        },
        {
          "output_type": "stream",
          "name": "stdout",
          "text": [
            "Average Loss: 444.8543762207031\n",
            "Epoch: 94\n"
          ]
        },
        {
          "output_type": "stream",
          "name": "stderr",
          "text": [
            "100%|██████████| 5/5 [00:00<00:00, 72.39it/s, loss=434]\n"
          ]
        },
        {
          "output_type": "stream",
          "name": "stdout",
          "text": [
            "Average Loss: 446.6426696777344\n",
            "Epoch: 95\n"
          ]
        },
        {
          "output_type": "stream",
          "name": "stderr",
          "text": [
            "100%|██████████| 5/5 [00:00<00:00, 64.67it/s, loss=429]\n"
          ]
        },
        {
          "output_type": "stream",
          "name": "stdout",
          "text": [
            "Average Loss: 453.80698852539064\n",
            "Epoch: 96\n"
          ]
        },
        {
          "output_type": "stream",
          "name": "stderr",
          "text": [
            "100%|██████████| 5/5 [00:00<00:00, 75.35it/s, loss=426]\n"
          ]
        },
        {
          "output_type": "stream",
          "name": "stdout",
          "text": [
            "Average Loss: 448.3639404296875\n",
            "Epoch: 97\n"
          ]
        },
        {
          "output_type": "stream",
          "name": "stderr",
          "text": [
            "100%|██████████| 5/5 [00:00<00:00, 77.60it/s, loss=426]\n"
          ]
        },
        {
          "output_type": "stream",
          "name": "stdout",
          "text": [
            "Average Loss: 447.80153198242186\n",
            "Epoch: 98\n"
          ]
        },
        {
          "output_type": "stream",
          "name": "stderr",
          "text": [
            "100%|██████████| 5/5 [00:00<00:00, 77.24it/s, loss=424]\n"
          ]
        },
        {
          "output_type": "stream",
          "name": "stdout",
          "text": [
            "Average Loss: 445.4188232421875\n",
            "Epoch: 99\n"
          ]
        },
        {
          "output_type": "stream",
          "name": "stderr",
          "text": [
            "100%|██████████| 5/5 [00:00<00:00, 69.50it/s, loss=424]"
          ]
        },
        {
          "output_type": "stream",
          "name": "stdout",
          "text": [
            "Average Loss: 446.265185546875\n"
          ]
        },
        {
          "output_type": "stream",
          "name": "stderr",
          "text": [
            "\n"
          ]
        }
      ]
    },
    {
      "cell_type": "markdown",
      "source": [
        "##Generate Doggo"
      ],
      "metadata": {
        "id": "aG-LpXMA3vcJ"
      }
    },
    {
      "cell_type": "code",
      "source": [
        "sample_mu = torch.Tensor([np.zeros(num_features)])\n",
        "sampled_logvar = torch.Tensor([np.zeros(num_features)])\n",
        "\n",
        "sampled_logvar.shape"
      ],
      "metadata": {
        "colab": {
          "base_uri": "https://localhost:8080/"
        },
        "id": "XjKsjCLG3ynL",
        "outputId": "02e855fd-2c57-44ad-d60a-1feae7f2254e"
      },
      "execution_count": null,
      "outputs": [
        {
          "output_type": "stream",
          "name": "stderr",
          "text": [
            "<ipython-input-12-b6bed5952089>:1: UserWarning: Creating a tensor from a list of numpy.ndarrays is extremely slow. Please consider converting the list to a single numpy.ndarray with numpy.array() before converting to a tensor. (Triggered internally at ../torch/csrc/utils/tensor_new.cpp:261.)\n",
            "  sample_mu = torch.Tensor([np.zeros(num_features)])\n"
          ]
        },
        {
          "output_type": "execute_result",
          "data": {
            "text/plain": [
              "torch.Size([1, 8])"
            ]
          },
          "metadata": {},
          "execution_count": 12
        }
      ]
    },
    {
      "cell_type": "code",
      "source": [
        "reconstruction = model.sample(sample_mu, sampled_logvar)"
      ],
      "metadata": {
        "id": "tzgGegva4IV6"
      },
      "execution_count": null,
      "outputs": []
    },
    {
      "cell_type": "code",
      "source": [
        "reconstructed_image = reconstruction[0].detach().cpu().numpy()\n",
        "reconstructed_image = reconstructed_image.reshape(img_width, img_height)\n",
        "\n",
        "plt.imshow(reconstructed_image)"
      ],
      "metadata": {
        "colab": {
          "base_uri": "https://localhost:8080/",
          "height": 447
        },
        "id": "7jDt03u74fFS",
        "outputId": "d959b1b4-a43c-42bc-eb90-cd0aefa4cc3c"
      },
      "execution_count": null,
      "outputs": [
        {
          "output_type": "execute_result",
          "data": {
            "text/plain": [
              "<matplotlib.image.AxesImage at 0x781d71fd41c0>"
            ]
          },
          "metadata": {},
          "execution_count": 14
        },
        {
          "output_type": "display_data",
          "data": {
            "text/plain": [
              "<Figure size 640x480 with 1 Axes>"
            ],
            "image/png": "[encoded data removed]"
          },
          "metadata": {}
        }
      ]
    }
  ]
}